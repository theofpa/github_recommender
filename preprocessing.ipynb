{
 "cells": [
  {
   "cell_type": "markdown",
   "metadata": {},
   "source": [
    "### Raw data\n",
    "\n",
    "* Number of users: 24 million\n",
    "* Number of projects: 83 million\n",
    "* Number of commits: 1 billion"
   ]
  },
  {
   "cell_type": "code",
   "execution_count": 74,
   "metadata": {},
   "outputs": [],
   "source": [
    "import pandas as pd\n",
    "%matplotlib inline\n",
    "import matplotlib.pyplot as plt"
   ]
  },
  {
   "cell_type": "code",
   "execution_count": 92,
   "metadata": {},
   "outputs": [
    {
     "name": "stdout",
     "output_type": "stream",
     "text": [
      "CPU times: user 8min 8s, sys: 1min 2s, total: 9min 10s\n",
      "Wall time: 9min 37s\n"
     ]
    }
   ],
   "source": [
    "%%time\n",
    "df=pd.read_csv('/storage2/mysql-2018-04-01/commits.csv',header=None,usecols=['user','repo'],names=['id','sha','user1','user','repo','date'],na_values='\\\\N')\n",
    "df.dropna(inplace=True)\n",
    "df['count']=1\n",
    "df['repo']=df['repo'].astype('int32')"
   ]
  },
  {
   "cell_type": "code",
   "execution_count": 93,
   "metadata": {},
   "outputs": [
    {
     "name": "stdout",
     "output_type": "stream",
     "text": [
      "CPU times: user 4min 48s, sys: 54.4 s, total: 5min 42s\n",
      "Wall time: 5min 56s\n"
     ]
    }
   ],
   "source": [
    "%%time\n",
    "ndf=df.groupby(['user','repo']).count()"
   ]
  },
  {
   "cell_type": "code",
   "execution_count": 94,
   "metadata": {},
   "outputs": [
    {
     "name": "stdout",
     "output_type": "stream",
     "text": [
      "CPU times: user 5.22 s, sys: 2.73 s, total: 7.95 s\n",
      "Wall time: 7.96 s\n"
     ]
    }
   ],
   "source": [
    "%%time\n",
    "ndf=ndf.dropna()\n",
    "#ndf=ndf[(ndf>3)&(ndf<40000)].dropna()\n",
    "ndf['count']=ndf['count'].astype('int32')"
   ]
  },
  {
   "cell_type": "code",
   "execution_count": 59,
   "metadata": {},
   "outputs": [],
   "source": [
    "# groupby&unstack seems to be faster than pivot_table\n",
    "#ndf=ndf.unstack()"
   ]
  },
  {
   "cell_type": "code",
   "execution_count": 95,
   "metadata": {},
   "outputs": [
    {
     "name": "stdout",
     "output_type": "stream",
     "text": [
      "dataframe: 24838 MB, length:  930193545\n",
      "filtered: 1327 MB, length:  73999902\n"
     ]
    }
   ],
   "source": [
    "import sys\n",
    "print('dataframe:',int(sys.getsizeof(df)/1024/1024),'MB, length: ', len(df))\n",
    "print('filtered:',int(sys.getsizeof(ndf)/1024/1024),'MB, length: ',len(ndf))"
   ]
  },
  {
   "cell_type": "code",
   "execution_count": 96,
   "metadata": {},
   "outputs": [
    {
     "data": {
      "image/png": "[encoded data removed]",
      "text/plain": [
       "<matplotlib.figure.Figure at 0x7fd67e90e048>"
      ]
     },
     "metadata": {},
     "output_type": "display_data"
    }
   ],
   "source": [
    "plt.rcParams[\"figure.figsize\"] = [15,5]\n",
    "ndf[ndf<50].hist(bins=49)\n",
    "plt.xlabel('number of commits in a particular repository')\n",
    "plt.ylabel('number of users');"
   ]
  }
 ],
 "metadata": {
  "kernelspec": {
   "display_name": "Python 3",
   "language": "python",
   "name": "python3"
  },
  "language_info": {
   "codemirror_mode": {
    "name": "ipython",
    "version": 3
   },
   "file_extension": ".py",
   "mimetype": "text/x-python",
   "name": "python",
   "nbconvert_exporter": "python",
   "pygments_lexer": "ipython3",
   "version": "3.6.4"
  }
 },
 "nbformat": 4,
 "nbformat_minor": 2
}
