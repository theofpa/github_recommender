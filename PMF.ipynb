{
 "cells": [
  {
   "cell_type": "code",
   "execution_count": 13,
   "metadata": {},
   "outputs": [],
   "source": [
    "import numpy as np\n",
    "from numpy.random import RandomState\n",
    "from recommend.pmf import PMF\n",
    "from recommend.utils.evaluation import RMSE\n",
    "import pandas as pd\n",
    "from sklearn import preprocessing\n",
    "rand_state = RandomState(0)"
   ]
  },
  {
   "cell_type": "code",
   "execution_count": 3,
   "metadata": {},
   "outputs": [],
   "source": [
    "df=pd.read_csv(\"../github-recommender/fdf.csv\")"
   ]
  },
  {
   "cell_type": "code",
   "execution_count": 5,
   "metadata": {},
   "outputs": [],
   "source": [
    "le = preprocessing.LabelEncoder()\n",
    "le.fit(df.user)\n",
    "df.user=le.transform(df.user)\n",
    "le.fit(df.repo)\n",
    "df.repo=le.transform(df.repo)"
   ]
  },
  {
   "cell_type": "code",
   "execution_count": 6,
   "metadata": {},
   "outputs": [],
   "source": [
    "ratings=df.values"
   ]
  },
  {
   "cell_type": "code",
   "execution_count": 7,
   "metadata": {},
   "outputs": [],
   "source": [
    "n_user=df.user.max()+1\n",
    "n_item=df.repo.max()+1"
   ]
  },
  {
   "cell_type": "code",
   "execution_count": 8,
   "metadata": {},
   "outputs": [
    {
     "name": "stdout",
     "output_type": "stream",
     "text": [
      "num of user: 150662\n",
      "num of item: 32464\n"
     ]
    }
   ],
   "source": [
    "print(\"num of user: %d\" % n_user)\n",
    "print(\"num of item: %d\" % n_item)"
   ]
  },
  {
   "cell_type": "code",
   "execution_count": 9,
   "metadata": {},
   "outputs": [
    {
     "name": "stdout",
     "output_type": "stream",
     "text": [
      "training size: 720663\n",
      "validation size: 80074\n"
     ]
    }
   ],
   "source": [
    "# split data to training & testing\n",
    "train_pct = 0.9\n",
    "rand_state.shuffle(ratings)\n",
    "train_size = int(train_pct * ratings.shape[0])\n",
    "train = ratings[:train_size]\n",
    "validation = ratings[train_size:]\n",
    "\n",
    "print(\"training size: %d\" % train.shape[0])\n",
    "print(\"validation size: %d\" % validation.shape[0])"
   ]
  },
  {
   "cell_type": "code",
   "execution_count": 10,
   "metadata": {},
   "outputs": [
    {
     "name": "stdout",
     "output_type": "stream",
     "text": [
      "training PMF model...\n",
      "CPU times: user 43min 38s, sys: 588 ms, total: 43min 39s\n",
      "Wall time: 43min 39s\n"
     ]
    }
   ],
   "source": [
    "%%time\n",
    "n_feature = 10\n",
    "eval_iters = 20\n",
    "print(\"training PMF model...\")\n",
    "pmf = PMF(n_user=n_user, n_item=n_item, n_feature=n_feature,\n",
    "          epsilon=25., max_rating=1., min_rating=None, seed=0)\n",
    "pmf.fit(train, n_iters=eval_iters)"
   ]
  },
  {
   "cell_type": "code",
   "execution_count": 11,
   "metadata": {},
   "outputs": [
    {
     "name": "stdout",
     "output_type": "stream",
     "text": [
      "PMF training RMSE 0.000, validation RMSE 0.000\n"
     ]
    }
   ],
   "source": [
    "pmf_train_preds = pmf.predict(train[:, :2])\n",
    "pmf_train_rmse = RMSE(pmf_train_preds, train[:, 2])\n",
    "pmf_val_preds = pmf.predict(validation[:, :2])\n",
    "pmf_val_rmse = RMSE(pmf_val_preds, validation[:, 2])\n",
    "print(\"PMF training RMSE %.3f, validation RMSE %.3f\" % (pmf_train_rmse, pmf_val_rmse))"
   ]
  },
  {
   "cell_type": "code",
   "execution_count": 14,
   "metadata": {},
   "outputs": [
    {
     "name": "stdout",
     "output_type": "stream",
     "text": [
      "PMF prediction for user 0\n",
      "item 0: pmf: 1.000\n",
      "item 1: pmf: 1.000\n",
      "item 2: pmf: 1.000\n",
      "item 3: pmf: 1.000\n",
      "item 4: pmf: 1.000\n",
      "item 5: pmf: 1.000\n",
      "item 6: pmf: 1.000\n",
      "item 7: pmf: 1.000\n",
      "item 8: pmf: 1.000\n",
      "item 9: pmf: 1.000\n"
     ]
    }
   ],
   "source": [
    "user_id = 0\n",
    "\n",
    "pred_items = np.array([[user_id, i] for i in range(10)])\n",
    "# pmf\n",
    "pmf_pred = pmf.predict(pred_items)\n",
    "\n",
    "print(\"PMF prediction for user %d\" % user_id)\n",
    "for i in range(10):\n",
    "    print(\"item %d: pmf: %.3f\" % (i, pmf_pred[i]))"
   ]
  }
 ],
 "metadata": {
  "kernelspec": {
   "display_name": "Python 3",
   "language": "python",
   "name": "python3"
  },
  "language_info": {
   "codemirror_mode": {
    "name": "ipython",
    "version": 3
   },
   "file_extension": ".py",
   "mimetype": "text/x-python",
   "name": "python",
   "nbconvert_exporter": "python",
   "pygments_lexer": "ipython3",
   "version": "3.6.4"
  }
 },
 "nbformat": 4,
 "nbformat_minor": 2
}
